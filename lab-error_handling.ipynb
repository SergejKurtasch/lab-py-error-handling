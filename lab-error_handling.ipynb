{
 "cells": [
  {
   "cell_type": "markdown",
   "metadata": {},
   "source": [
    "# LAB | Error Handling in Python\n",
    "\n",
    "## Overview\n",
    "This exercise notebook will help you practice error handling in Python using exceptions. You will write programs that handle various types of exceptions to ensure your code runs smoothly and handles errors gracefully."
   ]
  },
  {
   "cell_type": "markdown",
   "metadata": {},
   "source": [
    "### Exercise 1: Handle ZeroDivisionError\n",
    "Write a Python program to handle a `ZeroDivisionError` exception when dividing a number by zero.\n"
   ]
  },
  {
   "cell_type": "code",
   "execution_count": null,
   "metadata": {},
   "outputs": [],
   "source": [
    "# Your code here\n",
    "for i in range(-5 , 5):\n",
    "    try:\n",
    "        print(10 / i)\n",
    "    except ZeroDivisionError:\n",
    "        print(f\"10/{i} was skipped because nothig can be divided by 0\")\n"
   ]
  },
  {
   "cell_type": "markdown",
   "metadata": {},
   "source": [
    "\n",
    "### Exercise 2: Raise ValueError for Invalid Input\n",
    "Write a Python program that prompts the user to input an integer and raises a `ValueError` exception if the input is not a valid integer.\n",
    "\n"
   ]
  },
  {
   "cell_type": "code",
   "execution_count": null,
   "metadata": {},
   "outputs": [],
   "source": [
    "# Your code here\n",
    "a = ''\n",
    "while not isinstance(a, int):\n",
    "    try:\n",
    "        a = int(input(\"enter any integer number\"))\n",
    "    except ValueError:\n",
    "        print(\"Sorry, this set of characters can't be converted into an integer number. Try again\")\n",
    "    print(a)"
   ]
  },
  {
   "cell_type": "markdown",
   "metadata": {},
   "source": [
    "\n",
    "\n",
    "### Exercise 3: Handle FileNotFoundError\n",
    "Write a Python program that opens a file and handles a `FileNotFoundError` exception if the file does not exist.\n",
    "\n"
   ]
  },
  {
   "cell_type": "code",
   "execution_count": null,
   "metadata": {},
   "outputs": [],
   "source": [
    "# Your code here\n",
    "try:\n",
    "    location = '../lab-py-error-handling/README.md'\n",
    "    with open(location, 'r', encoding=\"utf8\") as f:\n",
    "        text_file = f.read().split(' ')\n",
    "    print(f\"File {location} was successfully opened\")\n",
    "    print(text_file)\n",
    "except FileNotFoundError:\n",
    "    print(\"Check the name of file or location\")\n",
    "\n",
    "print(\"------\")\n",
    "\n",
    "try:\n",
    "    location = '../README.md'\n",
    "    with open(location, 'r', encoding=\"utf8\") as f:\n",
    "        text_file = f.read().split(' ')\n",
    "    print(text_file)\n",
    "except FileNotFoundError:\n",
    "    print(\"File wasn't found. Check the name of the file or location\")"
   ]
  },
  {
   "cell_type": "markdown",
   "metadata": {},
   "source": [
    "\n",
    "\n",
    "### Exercise 4: Raise TypeError for Non-Numerical Input\n",
    "Write a Python program that prompts the user to input two numbers and raises a `TypeError` exception if the inputs are not numerical.\n",
    "\n"
   ]
  },
  {
   "cell_type": "code",
   "execution_count": null,
   "metadata": {},
   "outputs": [],
   "source": [
    "# Function to input numbers and check if the input is numeric\n",
    "def get_number(prompt):\n",
    "    value = input(prompt)\n",
    "    try: \n",
    "        value = float(value)\n",
    "    except:\n",
    "        raise TypeError(f\"Wrong input: '{value}' is not a number.\")\n",
    "    return value\n",
    "\n",
    "# Main program block\n",
    "try:\n",
    "    number1 = get_number(\"Enter the 1st number: \")\n",
    "    number2 = get_number(\"Enter the 2nd number: \")\n",
    "    print(f\"Your numbers are: {number1} and {number2}\")\n",
    "except TypeError as e:\n",
    "    print(e)\n"
   ]
  },
  {
   "cell_type": "code",
   "execution_count": null,
   "metadata": {},
   "outputs": [],
   "source": [
    "\n",
    "tuple1 = ((1, \"Name\", 20.5), (2, \"Second Name\", 30.8))\n",
    "dict1 = {1 : \"Name\",\n",
    "         2 : \"Car\"}\n",
    "try:\n",
    "    new_object = tuple1 + dict1\n",
    "    print(new_object)\n",
    "except TypeError as e:\n",
    "    print(e)"
   ]
  },
  {
   "cell_type": "markdown",
   "metadata": {},
   "source": [
    "\n",
    "\n",
    "### Exercise 5: Handle PermissionError\n",
    "Write a Python program that opens a file and handles a `PermissionError` exception if there is a permission issue.\n",
    "\n",
    "\n"
   ]
  },
  {
   "cell_type": "code",
   "execution_count": null,
   "metadata": {},
   "outputs": [],
   "source": [
    "# Your code here\n",
    "try:\n",
    "    with open('README.md', 'r') as file:\n",
    "        content = file.read()\n",
    "        print(content[:320])\n",
    "except PermissionError:\n",
    "    print(\"ОError: Insufficient permissions to open the file.\")\n",
    "\n",
    "print(\"The program continues to run.\")"
   ]
  },
  {
   "cell_type": "code",
   "execution_count": null,
   "metadata": {},
   "outputs": [],
   "source": [
    "try:\n",
    "    with open('ClosedFile.txt', 'r') as file:\n",
    "        content = file.read()\n",
    "        print(content[:320])\n",
    "except PermissionError:\n",
    "    print(\"Error: Insufficient permissions to open the file.\")\n",
    "\n",
    "\n",
    "print(\"The program continues to run.\")"
   ]
  },
  {
   "cell_type": "markdown",
   "metadata": {},
   "source": [
    "\n",
    "\n",
    "### Exercise 6: Handle IndexError in List Operations\n",
    "Write a Python program that executes an operation on a list and handles an `IndexError` exception if the index is out of range.\n",
    "\n",
    "\n"
   ]
  },
  {
   "cell_type": "code",
   "execution_count": null,
   "metadata": {},
   "outputs": [],
   "source": [
    "# Your code here\n",
    "my_list = [0.0, 10 ,20, 30, 40, 50]\n",
    "\n",
    "try:\n",
    "    n = int(input())\n",
    "    print(f\"The {n} element in the list is  {my_list[n]}\")\n",
    "except IndexError:\n",
    "    print(f\"There is no element under {n} index, try any number between 0 and {len(my_list)} \")\n",
    "except ValueError:\n",
    "    print(\"Sorry, this set of characters can't be converted into an integer number. Try again\")"
   ]
  },
  {
   "cell_type": "markdown",
   "metadata": {},
   "source": [
    "\n",
    "\n",
    "### Exercise 7: Handle KeyboardInterrupt Exception\n",
    "Write a Python program that prompts the user to input a number and handles a `KeyboardInterrupt` exception if the user cancels the input.\n",
    "\n"
   ]
  },
  {
   "cell_type": "code",
   "execution_count": null,
   "metadata": {},
   "outputs": [],
   "source": [
    "# Your code here\n",
    "try:\n",
    "    # Request user input for a number\n",
    "    number = input(\"Enter a number: \")\n",
    "    number = float(number)  # Convert input to a float\n",
    "    print(f\"You entered the number: {number}\")\n",
    "except KeyboardInterrupt:\n",
    "    print(\"\\nInput was canceled by the user.\")\n",
    "except ValueError:\n",
    "    print(\"Error: The entered value is not a number.\")\n",
    "\n"
   ]
  },
  {
   "cell_type": "markdown",
   "metadata": {},
   "source": [
    "##Running it in the Termonal:\n",
    "\n",
    "PS C:\\Users\\serge\\OneDrive\\DS_AI\\python_projects\\week3\\lab-py-error-handling> python3 keyboard_err.py\n",
    "Enter a number: \n",
    "Input was canceled by the user."
   ]
  },
  {
   "cell_type": "markdown",
   "metadata": {},
   "source": [
    "\n",
    "\n",
    "### Exercise 8: Handle ArithmeticError\n",
    "Write a Python program that executes division and handles an `ArithmeticError` exception if there is an arithmetic error.\n",
    "\n"
   ]
  },
  {
   "cell_type": "code",
   "execution_count": null,
   "metadata": {},
   "outputs": [],
   "source": [
    "\n",
    "# Your code here\n",
    "# Request user input for two numbers\n",
    "for i in range(-5 , 5):\n",
    "    try:\n",
    "        print(10 / i)\n",
    "# Perform division\n",
    "    except ArithmeticError as e:\n",
    "        print(f\"Arithmetic error: {e}\")\n",
    "\n",
    "# Rest of the program code\n",
    "print(\"The program continues to run.\")\n"
   ]
  },
  {
   "cell_type": "markdown",
   "metadata": {},
   "source": [
    "\n",
    "\n",
    "### Exercise 9: Handle UnicodeDecodeError\n",
    "Write a Python program that opens a file and handles a `UnicodeDecodeError` exception if there is an encoding issue.\n",
    "\n"
   ]
  },
  {
   "cell_type": "code",
   "execution_count": null,
   "metadata": {},
   "outputs": [],
   "source": [
    "# Your code here\n",
    "# Your code here\n",
    "try:\n",
    "    with open('README.md', 'r', encoding='utf-16') as file:\n",
    "        content = file.read()\n",
    "        print(content[:320])\n",
    "except PermissionError:\n",
    "    print(\"ОError: Insufficient permissions to open the file.\")\n",
    "except UnicodeDecodeError:\n",
    "    print(\"Error: Unable to decode the file using the specified encoding (utf-8).\")\n",
    "\n",
    "print(\"The program continues to run.\")"
   ]
  },
  {
   "cell_type": "markdown",
   "metadata": {},
   "source": [
    "\n",
    "\n",
    "### Exercise 10: Handle AttributeError\n",
    "Write a Python program that executes an operation on an object and handles an `AttributeError` exception if the attribute does not exist.\n",
    "\n"
   ]
  },
  {
   "cell_type": "code",
   "execution_count": null,
   "metadata": {},
   "outputs": [],
   "source": [
    "# Your code here\n",
    "class TestClass:\n",
    "    def __init__(self, value):\n",
    "        self.value = value\n",
    "\n",
    "    def print_value(self):\n",
    "        print(f\"The value is: {self.value}\")\n",
    "\n",
    "example_object = TestClass(10)\n",
    "\n",
    "try:\n",
    "    example_object.non_existent_method()\n",
    "except AttributeError:\n",
    "    print(\"Error: The attribute or method does not exist.\")\n",
    "\n",
    "# Rest of the program code\n",
    "print(\"The program continues to run.\")\n"
   ]
  },
  {
   "cell_type": "markdown",
   "metadata": {},
   "source": [
    "\n",
    "\n",
    "## Bonus Exercises\n",
    "\n",
    "### Bonus Exercise 1: Handle Multiple Exceptions\n",
    "Write a Python program that demonstrates handling multiple exceptions in one block.\n",
    "\n",
    "\n"
   ]
  },
  {
   "cell_type": "code",
   "execution_count": null,
   "metadata": {},
   "outputs": [],
   "source": [
    "# Your code here\n",
    "def handle_multiple_exceptions():\n",
    "    try:\n",
    "        # Request user input for a number\n",
    "        number = input(\"Enter a number: \")\n",
    "        number = float(number)  # Convert input to a float\n",
    "        print(f\"You entered the number: {number}\")\n",
    "\n",
    "        # Perform division\n",
    "        denominator = input(\"Enter a denominator for division: \")\n",
    "        denominator = float(denominator)\n",
    "        result = 100 / denominator\n",
    "        print(f\"Result of division: {result}\")\n",
    "\n",
    "        # File operation\n",
    "        with open('example.txt', 'r') as file:\n",
    "            content = file.read()\n",
    "            print(f\"File content preview: {content[:50]}\")\n",
    "\n",
    "    except (ValueError, ZeroDivisionError) as e:\n",
    "        # Handle ValueError for invalid input or ZeroDivisionError for division by zero\n",
    "        print(f\"Error: {e}\")\n",
    "\n",
    "    except FileNotFoundError:\n",
    "        # Handle file not found exception\n",
    "        print(\"Error: The specified file does not exist.\")\n",
    "\n",
    "    except Exception as e:\n",
    "        # Catch any other exceptions\n",
    "        print(f\"An unexpected error occurred: {e}\")\n",
    "\n",
    "    finally:\n",
    "        # Optional: Always executed block\n",
    "        print(\"Execution finished.\")\n",
    "\n",
    "# Run the program\n",
    "handle_multiple_exceptions()"
   ]
  },
  {
   "cell_type": "markdown",
   "metadata": {},
   "source": [
    "\n",
    "\n",
    "### Bonus Exercise 2: Create Custom Exception\n",
    "Create a custom exception class and raise it in your code when certain conditions are met.\n",
    "\n",
    "\n"
   ]
  },
  {
   "cell_type": "code",
   "execution_count": null,
   "metadata": {},
   "outputs": [],
   "source": [
    "import time\n",
    "\n",
    "# Create a custom exception class\n",
    "class TimeoutError(Exception):\n",
    "    pass\n",
    "\n",
    "# Function with a while loop\n",
    "def long_running_process():\n",
    "    start_time = time.time()\n",
    "    \n",
    "    while True:\n",
    "        current_time = time.time()\n",
    "        elapsed_time = current_time - start_time\n",
    "        \n",
    "        if elapsed_time > 5:\n",
    "            raise TimeoutError(\"The process is taking too long and has been terminated.\")\n",
    "        \n",
    "        # Simulate a long-running operation\n",
    "        time.sleep(1)\n",
    "        print(\"Processing...\")\n",
    "\n",
    "# Main program block\n",
    "try:\n",
    "    long_running_process()\n",
    "except TimeoutError as e:\n",
    "    print(e)\n",
    "\n",
    "# Rest of the program code\n",
    "print(\"The program continues to run.\")\n",
    "\n"
   ]
  },
  {
   "cell_type": "markdown",
   "metadata": {},
   "source": [
    "### Bonus Exercise 3: Validate User Input with Exception Handling\n",
    "\n",
    "Write a program that repeatedly prompts the user for valid input until they provide it, using exception handling to manage invalid inputs.\n"
   ]
  },
  {
   "cell_type": "code",
   "execution_count": null,
   "metadata": {},
   "outputs": [],
   "source": [
    "def get_valid_number():\n",
    "   \n",
    "    while True:\n",
    "        try:\n",
    "            \n",
    "            user_input = input(\"Enter a valid number: \")\n",
    "            \n",
    "            number = float(user_input)\n",
    "            \n",
    "            print(f\"Thank you! You entered the number: {number}\")\n",
    "            return number\n",
    "        except ValueError:\n",
    "            \n",
    "            print(\"Invalid input. Please enter a numeric value.\")\n",
    "\n",
    "\n",
    "get_valid_number()"
   ]
  },
  {
   "cell_type": "markdown",
   "metadata": {},
   "source": [
    "### Bonus Exercise 4: Log Errors to File\n",
    "\n",
    "Modify your error handling to log errors to a text file instead of printing them to the console."
   ]
  },
  {
   "cell_type": "code",
   "execution_count": null,
   "metadata": {},
   "outputs": [],
   "source": [
    "def get_valid_number():\n",
    "    \"\"\"\n",
    "    Repeatedly prompts the user for a valid number.\n",
    "    Logs errors to a text file instead of printing them.\n",
    "    Returns the number once it's correctly entered.\n",
    "    \"\"\"\n",
    "    import logging\n",
    "\n",
    "    \n",
    "    logging.basicConfig(\n",
    "        filename='error_log.txt',  \n",
    "        level=logging.ERROR,       \n",
    "        format='%(asctime)s - %(levelname)s - %(message)s'\n",
    "    )\n",
    "    \n",
    "    while True:\n",
    "        try:\n",
    "            \n",
    "            user_input = input(\"Enter a valid number: \")\n",
    "            number = float(user_input)\n",
    "                        \n",
    "            print(f\"Thank you! You entered the number: {number}\")\n",
    "            return number\n",
    "        except ValueError as e:\n",
    "            # Log the error to the file\n",
    "            logging.error(f\"Invalid input: {e}\")\n",
    "            print(\"Invalid input. Please enter a numeric value. (Error logged)\")\n",
    "        except Exception as e:\n",
    "            # Log any unexpected errors\n",
    "            logging.error(f\"Unexpected error: {e}\")\n",
    "            print(\"An unexpected error occurred. (Error logged)\")\n",
    "\n",
    "\n",
    "get_valid_number()\n"
   ]
  },
  {
   "cell_type": "markdown",
   "metadata": {},
   "source": [
    "### Bonus Exercise 5: Retry Logic on Exception\n",
    "Implement retry logic for operations that could fail, allowing users to try again after encountering an error."
   ]
  },
  {
   "cell_type": "code",
   "execution_count": null,
   "metadata": {},
   "outputs": [],
   "source": [
    "def get_valid_number():\n",
    "   \n",
    "    while True:\n",
    "        try:\n",
    "            \n",
    "            user_input = input(\"Enter a valid number: \")\n",
    "            \n",
    "            number = float(user_input)\n",
    "            \n",
    "            print(f\"Thank you! You entered the number: {number}\")\n",
    "            return number\n",
    "        except ValueError:\n",
    "            \n",
    "            print(\"Invalid input. Please enter a numeric value.\")\n",
    "\n",
    "\n",
    "get_valid_number()"
   ]
  }
 ],
 "metadata": {
  "kernelspec": {
   "display_name": "Python 3",
   "language": "python",
   "name": "python3"
  },
  "language_info": {
   "codemirror_mode": {
    "name": "ipython",
    "version": 3
   },
   "file_extension": ".py",
   "mimetype": "text/x-python",
   "name": "python",
   "nbconvert_exporter": "python",
   "pygments_lexer": "ipython3",
   "version": "3.9.6"
  }
 },
 "nbformat": 4,
 "nbformat_minor": 2
}

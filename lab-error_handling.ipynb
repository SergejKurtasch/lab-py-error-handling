{
 "cells": [
  {
   "cell_type": "markdown",
   "metadata": {},
   "source": [
    "# LAB | Error Handling in Python\n",
    "\n",
    "## Overview\n",
    "This exercise notebook will help you practice error handling in Python using exceptions. You will write programs that handle various types of exceptions to ensure your code runs smoothly and handles errors gracefully."
   ]
  },
  {
   "cell_type": "markdown",
   "metadata": {},
   "source": [
    "### Exercise 1: Handle ZeroDivisionError\n",
    "Write a Python program to handle a `ZeroDivisionError` exception when dividing a number by zero.\n"
   ]
  },
  {
   "cell_type": "code",
   "execution_count": 4,
   "metadata": {},
   "outputs": [
    {
     "name": "stdout",
     "output_type": "stream",
     "text": [
      "-2.0\n",
      "-2.5\n",
      "-3.3333333333333335\n",
      "-5.0\n",
      "-10.0\n",
      "10/0 was skipped because nothig can be divided by 0\n",
      "10.0\n",
      "5.0\n",
      "3.3333333333333335\n",
      "2.5\n"
     ]
    }
   ],
   "source": [
    "# Your code here\n",
    "for i in range(-5 , 5):\n",
    "    try:\n",
    "        print(10 / i)\n",
    "    except ZeroDivisionError:\n",
    "        print(f\"10/{i} was skipped because nothig can be divided by 0\")\n"
   ]
  },
  {
   "cell_type": "markdown",
   "metadata": {},
   "source": [
    "\n",
    "### Exercise 2: Raise ValueError for Invalid Input\n",
    "Write a Python program that prompts the user to input an integer and raises a `ValueError` exception if the input is not a valid integer.\n",
    "\n"
   ]
  },
  {
   "cell_type": "code",
   "execution_count": 9,
   "metadata": {},
   "outputs": [
    {
     "name": "stdout",
     "output_type": "stream",
     "text": [
      "Sorry, this set of characters can't be converted into an integer number. Try again\n",
      "\n",
      "Sorry, this set of characters can't be converted into an integer number. Try again\n",
      "\n",
      "Sorry, this set of characters can't be converted into an integer number. Try again\n",
      "\n",
      "Sorry, this set of characters can't be converted into an integer number. Try again\n",
      "\n",
      "80\n"
     ]
    }
   ],
   "source": [
    "# Your code here\n",
    "a = ''\n",
    "while not isinstance(a, int):\n",
    "    try:\n",
    "        a = int(input(\"enter any integer number\"))\n",
    "    except ValueError:\n",
    "        print(\"Sorry, this set of characters can't be converted into an integer number. Try again\")\n",
    "    print(a)"
   ]
  },
  {
   "cell_type": "markdown",
   "metadata": {},
   "source": [
    "\n",
    "\n",
    "### Exercise 3: Handle FileNotFoundError\n",
    "Write a Python program that opens a file and handles a `FileNotFoundError` exception if the file does not exist.\n",
    "\n"
   ]
  },
  {
   "cell_type": "code",
   "execution_count": 19,
   "metadata": {},
   "outputs": [
    {
     "name": "stdout",
     "output_type": "stream",
     "text": [
      "File ../lab-py-error-handling/README.md was successfully opened\n",
      "['![logo_ironhack_blue', '7](https://user-images.githubusercontent.com/23629340/40541063-a07a0a8a-601a-11e8-91b5-2f13e4e6b441.png)\\n\\n#', 'Lab', '|', 'Error', 'Handling', 'in', 'Python\\n\\n##', 'Getting', 'Started\\n\\nFollow', 'the', 'instructions', 'provided', 'in', 'the', 'notebook.\\n\\nRead', 'the', 'instructions', 'for', 'each', 'cell', 'and', 'provide', 'your', 'answers.', 'Make', 'sure', 'to', 'test', 'your', 'answers', 'in', 'each', 'cell', 'and', 'save.', 'Jupyter', 'Notebook', 'should', 'automatically', 'save', 'your', 'work', 'progress.', 'But', \"it's\", 'a', 'good', 'idea', 'to', 'periodically', 'save', 'your', 'work', 'manually', 'just', 'in', 'case.\\n\\n##', 'Deliverables\\n\\n-', 'Submitted', 'notebook', 'with', 'your', 'responses', 'to', 'each', 'of', 'the', 'exercises.\\n\\n##', 'Submission\\n\\n-', 'Upon', 'completion,', 'add', 'your', 'deliverables', 'to', 'git.', '\\n-', 'Then', 'commit', 'git', 'and', 'push', 'your', 'branch', 'to', 'the', 'remote.\\n-', 'Make', 'a', 'pull', 'request', 'and', 'paste', 'the', 'PR', 'link', 'in', 'the', 'submission', 'field', 'in', 'the', 'Student', 'Portal.\\n\\n<br>\\n\\n**Good', 'luck!**\\n']\n",
      "------\n",
      "File wasn't found. Check the name of the file or location\n"
     ]
    }
   ],
   "source": [
    "# Your code here\n",
    "try:\n",
    "    location = '../lab-py-error-handling/README.md'\n",
    "    with open(location, 'r', encoding=\"utf8\") as f:\n",
    "        text_file = f.read().split(' ')\n",
    "    print(f\"File {location} was successfully opened\")\n",
    "    print(text_file)\n",
    "except FileNotFoundError:\n",
    "    print(\"Check the name of file or location\")\n",
    "\n",
    "print(\"------\")\n",
    "\n",
    "try:\n",
    "    location = '../README.md'\n",
    "    with open(location, 'r', encoding=\"utf8\") as f:\n",
    "        text_file = f.read().split(' ')\n",
    "    print(text_file)\n",
    "except FileNotFoundError:\n",
    "    print(\"File wasn't found. Check the name of the file or location\")"
   ]
  },
  {
   "cell_type": "markdown",
   "metadata": {},
   "source": [
    "\n",
    "\n",
    "### Exercise 4: Raise TypeError for Non-Numerical Input\n",
    "Write a Python program that prompts the user to input two numbers and raises a `TypeError` exception if the inputs are not numerical.\n",
    "\n"
   ]
  },
  {
   "cell_type": "code",
   "execution_count": 36,
   "metadata": {},
   "outputs": [
    {
     "name": "stdout",
     "output_type": "stream",
     "text": [
      "Wrong input: '5в' is not a number.\n"
     ]
    }
   ],
   "source": [
    "# Function to input numbers and check if the input is numeric\n",
    "def get_number(prompt):\n",
    "    value = input(prompt)\n",
    "    try: \n",
    "        value = float(value)\n",
    "    except:\n",
    "        raise TypeError(f\"Wrong input: '{value}' is not a number.\")\n",
    "    return value\n",
    "\n",
    "# Main program block\n",
    "try:\n",
    "    number1 = get_number(\"Enter the 1st number: \")\n",
    "    number2 = get_number(\"Enter the 2nd number: \")\n",
    "    print(f\"Your numbers are: {number1} and {number2}\")\n",
    "except TypeError as e:\n",
    "    print(e)\n"
   ]
  },
  {
   "cell_type": "code",
   "execution_count": 34,
   "metadata": {},
   "outputs": [
    {
     "name": "stdout",
     "output_type": "stream",
     "text": [
      "can only concatenate tuple (not \"dict\") to tuple\n"
     ]
    }
   ],
   "source": [
    "tuple1 = ((1, \"Name\", 20.5), (2, \"Second Name\", 30.8))\n",
    "dict1 = {1 : \"Name\",\n",
    "         2 : \"Car\"}\n",
    "try:\n",
    "    new_object = tuple1 + dict1\n",
    "    print(new_object)\n",
    "except TypeError as e:\n",
    "    print(e)\n"
   ]
  },
  {
   "cell_type": "markdown",
   "metadata": {},
   "source": [
    "\n",
    "\n",
    "### Exercise 5: Handle PermissionError\n",
    "Write a Python program that opens a file and handles a `PermissionError` exception if there is a permission issue.\n",
    "\n",
    "\n"
   ]
  },
  {
   "cell_type": "code",
   "execution_count": 41,
   "metadata": {},
   "outputs": [
    {
     "name": "stdout",
     "output_type": "stream",
     "text": [
      "![logo_ironhack_blue 7](https://user-images.githubusercontent.com/23629340/40541063-a07a0a8a-601a-11e8-91b5-2f13e4e6b441.png)\n",
      "\n",
      "# Lab | Error Handling in Python\n",
      "\n",
      "## Getting Started\n",
      "\n",
      "Follow the instructions provided in the notebook.\n",
      "\n",
      "Read the instructions for each cell and provide your answers. Make sure to test your ans\n",
      "The program continues to run.\n"
     ]
    }
   ],
   "source": [
    "# Your code here\n",
    "try:\n",
    "    with open('README.md', 'r') as file:\n",
    "        content = file.read()\n",
    "        print(content[:320])\n",
    "except PermissionError:\n",
    "    print(\"ОError: Insufficient permissions to open the file.\")\n",
    "\n",
    "print(\"The program continues to run.\")"
   ]
  },
  {
   "cell_type": "code",
   "execution_count": 9,
   "metadata": {},
   "outputs": [
    {
     "name": "stdout",
     "output_type": "stream",
     "text": [
      "Error: Insufficient permissions to open the file.\n",
      "The program continues to run.\n"
     ]
    }
   ],
   "source": [
    "try:\n",
    "    with open('ClosedFile.txt', 'r') as file:\n",
    "        content = file.read()\n",
    "        print(content[:320])\n",
    "except PermissionError:\n",
    "    print(\"Error: Insufficient permissions to open the file.\")\n",
    "\n",
    "\n",
    "print(\"The program continues to run.\")"
   ]
  },
  {
   "cell_type": "markdown",
   "metadata": {},
   "source": [
    "\n",
    "\n",
    "### Exercise 6: Handle IndexError in List Operations\n",
    "Write a Python program that executes an operation on a list and handles an `IndexError` exception if the index is out of range.\n",
    "\n",
    "\n"
   ]
  },
  {
   "cell_type": "code",
   "execution_count": 16,
   "metadata": {},
   "outputs": [
    {
     "name": "stdout",
     "output_type": "stream",
     "text": [
      "There is no element under 88 index, try any number between 0 and 6 \n"
     ]
    }
   ],
   "source": [
    "# Your code here\n",
    "my_list = [0.0, 10 ,20, 30, 40, 50]\n",
    "\n",
    "try:\n",
    "    n = int(input())\n",
    "    print(f\"The {n} element in the list is  {my_list[n]}\")\n",
    "except IndexError:\n",
    "    print(f\"There is no element under {n} index, try any number between 0 and {len(my_list)} \")\n",
    "except ValueError:\n",
    "    print(\"Sorry, this set of characters can't be converted into an integer number. Try again\")"
   ]
  },
  {
   "cell_type": "markdown",
   "metadata": {},
   "source": [
    "\n",
    "\n",
    "### Exercise 7: Handle KeyboardInterrupt Exception\n",
    "Write a Python program that prompts the user to input a number and handles a `KeyboardInterrupt` exception if the user cancels the input.\n",
    "\n"
   ]
  },
  {
   "cell_type": "code",
   "execution_count": 19,
   "metadata": {},
   "outputs": [
    {
     "name": "stdout",
     "output_type": "stream",
     "text": [
      "Error: The entered value is not a number.\n"
     ]
    }
   ],
   "source": [
    "# Your code here\n",
    "try:\n",
    "    # Request user input for a number\n",
    "    number = input(\"Enter a number: \")\n",
    "    number = float(number)  # Convert input to a float\n",
    "    print(f\"You entered the number: {number}\")\n",
    "except KeyboardInterrupt:\n",
    "    print(\"\\nInput was canceled by the user.\")\n",
    "except ValueError:\n",
    "    print(\"Error: The entered value is not a number.\")\n",
    "\n"
   ]
  },
  {
   "cell_type": "markdown",
   "metadata": {},
   "source": [
    "##Running it in the Termonal:\n",
    "\n",
    "PS C:\\Users\\serge\\OneDrive\\DS_AI\\python_projects\\week3\\lab-py-error-handling> python3 keyboard_err.py\n",
    "Enter a number: \n",
    "Input was canceled by the user."
   ]
  },
  {
   "cell_type": "markdown",
   "metadata": {},
   "source": [
    "\n",
    "\n",
    "### Exercise 8: Handle ArithmeticError\n",
    "Write a Python program that executes division and handles an `ArithmeticError` exception if there is an arithmetic error.\n",
    "\n"
   ]
  },
  {
   "cell_type": "code",
   "execution_count": 23,
   "metadata": {},
   "outputs": [
    {
     "name": "stdout",
     "output_type": "stream",
     "text": [
      "-2.0\n",
      "-2.5\n",
      "-3.3333333333333335\n",
      "-5.0\n",
      "-10.0\n",
      "Arithmetic error: division by zero\n",
      "10.0\n",
      "5.0\n",
      "3.3333333333333335\n",
      "2.5\n",
      "The program continues to run.\n"
     ]
    }
   ],
   "source": [
    "\n",
    "# Your code here\n",
    "# Request user input for two numbers\n",
    "for i in range(-5 , 5):\n",
    "    try:\n",
    "        print(10 / i)\n",
    "# Perform division\n",
    "    except ArithmeticError as e:\n",
    "        print(f\"Arithmetic error: {e}\")\n",
    "\n",
    "# Rest of the program code\n",
    "print(\"The program continues to run.\")\n"
   ]
  },
  {
   "cell_type": "markdown",
   "metadata": {},
   "source": [
    "\n",
    "\n",
    "### Exercise 9: Handle UnicodeDecodeError\n",
    "Write a Python program that opens a file and handles a `UnicodeDecodeError` exception if there is an encoding issue.\n",
    "\n"
   ]
  },
  {
   "cell_type": "code",
   "execution_count": 30,
   "metadata": {},
   "outputs": [
    {
     "name": "stdout",
     "output_type": "stream",
     "text": [
      "Error: Unable to decode the file using the specified encoding (utf-8).\n",
      "The program continues to run.\n"
     ]
    }
   ],
   "source": [
    "# Your code here\n",
    "# Your code here\n",
    "try:\n",
    "    with open('README.md', 'r', encoding='utf-16') as file:\n",
    "        content = file.read()\n",
    "        print(content[:320])\n",
    "except PermissionError:\n",
    "    print(\"ОError: Insufficient permissions to open the file.\")\n",
    "except UnicodeDecodeError:\n",
    "    print(\"Error: Unable to decode the file using the specified encoding (utf-8).\")\n",
    "\n",
    "print(\"The program continues to run.\")"
   ]
  },
  {
   "cell_type": "markdown",
   "metadata": {},
   "source": [
    "\n",
    "\n",
    "### Exercise 10: Handle AttributeError\n",
    "Write a Python program that executes an operation on an object and handles an `AttributeError` exception if the attribute does not exist.\n",
    "\n"
   ]
  },
  {
   "cell_type": "code",
   "execution_count": 32,
   "metadata": {},
   "outputs": [
    {
     "name": "stdout",
     "output_type": "stream",
     "text": [
      "Error: The attribute or method does not exist.\n",
      "The program continues to run.\n"
     ]
    }
   ],
   "source": [
    "# Your code here\n",
    "class TestClass:\n",
    "    def __init__(self, value):\n",
    "        self.value = value\n",
    "\n",
    "    def print_value(self):\n",
    "        print(f\"The value is: {self.value}\")\n",
    "\n",
    "example_object = TestClass(10)\n",
    "\n",
    "try:\n",
    "    example_object.non_existent_method()\n",
    "except AttributeError:\n",
    "    print(\"Error: The attribute or method does not exist.\")\n",
    "\n",
    "# Rest of the program code\n",
    "print(\"The program continues to run.\")\n"
   ]
  },
  {
   "cell_type": "markdown",
   "metadata": {},
   "source": [
    "\n",
    "\n",
    "## Bonus Exercises\n",
    "\n",
    "### Bonus Exercise 1: Handle Multiple Exceptions\n",
    "Write a Python program that demonstrates handling multiple exceptions in one block.\n",
    "\n",
    "\n"
   ]
  },
  {
   "cell_type": "code",
   "execution_count": 6,
   "metadata": {},
   "outputs": [],
   "source": [
    "# Your code here"
   ]
  },
  {
   "cell_type": "markdown",
   "metadata": {},
   "source": [
    "\n",
    "\n",
    "### Bonus Exercise 2: Create Custom Exception\n",
    "Create a custom exception class and raise it in your code when certain conditions are met.\n",
    "\n",
    "\n"
   ]
  },
  {
   "cell_type": "code",
   "execution_count": 39,
   "metadata": {},
   "outputs": [
    {
     "name": "stdout",
     "output_type": "stream",
     "text": [
      "Processing...\n",
      "Processing...\n",
      "Processing...\n",
      "Processing...\n",
      "Processing...\n",
      "The process is taking too long and has been terminated.\n",
      "The program continues to run.\n"
     ]
    }
   ],
   "source": [
    "import time\n",
    "\n",
    "# Create a custom exception class\n",
    "class TimeoutError(Exception):\n",
    "    pass\n",
    "\n",
    "# Function with a while loop\n",
    "def long_running_process():\n",
    "    start_time = time.time()\n",
    "    \n",
    "    while True:\n",
    "        current_time = time.time()\n",
    "        elapsed_time = current_time - start_time\n",
    "        \n",
    "        if elapsed_time > 5:\n",
    "            raise TimeoutError(\"The process is taking too long and has been terminated.\")\n",
    "        \n",
    "        # Simulate a long-running operation\n",
    "        time.sleep(1)\n",
    "        print(\"Processing...\")\n",
    "\n",
    "# Main program block\n",
    "try:\n",
    "    long_running_process()\n",
    "except TimeoutError as e:\n",
    "    print(e)\n",
    "\n",
    "# Rest of the program code\n",
    "print(\"The program continues to run.\")\n",
    "\n"
   ]
  },
  {
   "cell_type": "markdown",
   "metadata": {},
   "source": [
    "\n",
    "\n",
    "### Bonus Exercise 3: Validate User Input with Exception Handling\n",
    "Write a program that repeatedly prompts the user for valid input until they provide it, using exception handling to manage invalid inputs.\n",
    "\n"
   ]
  },
  {
   "cell_type": "code",
   "execution_count": null,
   "metadata": {},
   "outputs": [],
   "source": [
    "# Your code here"
   ]
  },
  {
   "cell_type": "markdown",
   "metadata": {},
   "source": [
    "\n",
    "\n",
    "### Bonus Exercise 4: Log Errors to File\n",
    "Modify your error handling to log errors to a text file instead of printing them to the console.\n",
    "\n"
   ]
  },
  {
   "cell_type": "code",
   "execution_count": 10,
   "metadata": {},
   "outputs": [],
   "source": [
    "# Your code here"
   ]
  },
  {
   "cell_type": "markdown",
   "metadata": {},
   "source": [
    "\n",
    "\n",
    "### Bonus Exercise 5: Retry Logic on Exception\n",
    "Implement retry logic for operations that could fail, allowing users to try again after encountering an error.\n",
    "\n"
   ]
  },
  {
   "cell_type": "code",
   "execution_count": null,
   "metadata": {},
   "outputs": [],
   "source": [
    "# Your code here"
   ]
  }
 ],
 "metadata": {
  "kernelspec": {
   "display_name": "Python 3",
   "language": "python",
   "name": "python3"
  },
  "language_info": {
   "codemirror_mode": {
    "name": "ipython",
    "version": 3
   },
   "file_extension": ".py",
   "mimetype": "text/x-python",
   "name": "python",
   "nbconvert_exporter": "python",
   "pygments_lexer": "ipython3",
   "version": "3.13.1"
  }
 },
 "nbformat": 4,
 "nbformat_minor": 2
}
